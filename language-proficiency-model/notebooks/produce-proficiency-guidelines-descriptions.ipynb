{
 "cells": [
  {
   "cell_type": "markdown",
   "source": [
    "# Produce proficiency guideline descriptions."
   ],
   "metadata": {
    "collapsed": false
   },
   "id": "4fe13259cdfd70f8"
  },
  {
   "cell_type": "code",
   "execution_count": 26,
   "id": "initial_id",
   "metadata": {
    "collapsed": true,
    "ExecuteTime": {
     "end_time": "2024-02-17T11:30:12.351744Z",
     "start_time": "2024-02-17T11:30:12.346766Z"
    }
   },
   "outputs": [
    {
     "data": {
      "text/plain": "{'Distinguished': 'Speakers at the Distinguished level are able to use language skillfully and with accuracy, efficiency, and effectiveness. They are educated and articulate users of the language, capable of reflecting on a wide range of global issues and highly abstract concepts in a culturally appropriate manner. Distinguished-level speakers can use persuasive and hypothetical discourse for representational purposes, allowing them to advocate a point of view that is not necessarily their own. They can tailor language to a variety of audiences by adapting their speech and register in ways that are culturally authentic.  Speakers at the Distinguished level produce highly sophisticated and tightly organized extended discourse. At the same time, they can speak succinctly, often using cultural and historical references to allow them to say less and mean more. At this level, oral discourse typically resembles written discourse. A non-native accent, a lack of a native-like economy of expression, a limited control of deeply embedded cultural references, and/or an occasional isolated language error may still be present at this level.',\n 'Superior': 'Speakers at the Superior level can communicate with accuracy and fluency to fully and effectively participate in conversations across a variety of topics in both formal and informal settings, encompassing concrete and abstract perspectives. They adeptly discuss their interests and specialized fields, elaborate on complex matters, and deliver extensive and coherent narrations effortlessly, maintaining ease, fluency, and accuracy. These speakers express their opinions on various issues, including social and political matters, and construct well-organized arguments to substantiate their viewpoints. They can formulate and explore hypotheses to investigate alternative possibilities.  When appropriate, Superior-level speakers engage in extended discourse without unnaturally lengthy hesitation to convey their points, even in abstract elaborations. While maintaining coherence, their discourse may still reflect language patterns beyond those of the target language. Superior-level speakers employ diverse interactive and discourse strategies, including turn-taking and the separation of main ideas from supporting information through the use of syntactic, lexical, and phonetic devices.  At the Superior level, speakers exhibit no consistent pattern of errors in basic structures, although sporadic errors may arise, particularly in low-frequency structures and complex high-frequency structures. If errors occur, they do not distract the native interlocutor or hinder communication.',\n 'Advanced High': 'Speakers at the Advanced level engage in conversation in a clearly participatory manner to communicate information on autobiographical topics, as well as topics of community, national, or international interest. The topics are handled concretely through narration and description in the major time frames of past, present, and future. These speakers can also deal with a social situation with an unexpected complication. The language of Advanced-level speakers is abundant, with the oral paragraph being the measure of Advanced-level length and discourse. Advanced-level speakers have sufficient control of basic structures and generic vocabulary to be understood by native speakers of the language, including those unaccustomed to non-native speech. Speakers at the Advanced High sublevel perform all Advanced-level tasks with linguistic ease, confidence, and competence. They are consistently able to explain in detail and narrate fully and accurately in all time frames.  In addition, Advanced High speakers handle tasks pertaining to the Superior level but cannot sustain performance at that level across a variety of topics. They may provide a structured argument to support their opinions, and they may construct hypotheses, but patterns of error appear. They can discuss some topics abstractly, especially those relating to their particular interests and special fields of expertise, but in general, they are more comfortable discussing a variety of topics concretely.  Advanced High speakers may demonstrate a well-developed ability to compensate for an imperfect grasp of some forms or for limitations in vocabulary by the confident use of communicative strategies, such as paraphrasing, circumlocution, and illustration. They use precise vocabulary and intonation to express meaning and often show great fluency and ease of speech.  However, when called on to perform the complex tasks associated with the Superior level over a variety of topics, their language will at times break down or prove inadequate, or they may avoid the task altogether, for example, by resorting to simplification through the use of description or narration in place of argument or hypothesis.',\n 'Advanced Mid': 'Speakers at the Advanced level engage in conversation in a clearly participatory manner to communicate information on autobiographical topics, as well as topics of community, national, or international interest. The topics are handled concretely through narration and description in the major time frames of past, present, and future. These speakers can also deal with a social situation with an unexpected complication. The language of Advanced-level speakers is abundant, with the oral paragraph being the measure of Advanced-level length and discourse. Advanced-level speakers have sufficient control of basic structures and generic vocabulary to be understood by native speakers of the language, including those unaccustomed to non-native speech. Speakers at the Advanced Mid sublevel can confidently handle a wide range of communicative tasks. They actively participate in both informal and some formal exchanges, covering diverse topics such as work, school, home, leisure activities, as well as current events and personal interests. Advanced Mid speakers exhibit proficiency in narrating and describing across past, present, and future time frames, providing comprehensive accounts with good control of aspect. Narration and description are seamlessly combined in paragraph-length discourse to convey relevant facts.  These speakers adeptly navigate linguistic challenges presented by complications or unexpected events within routine situations. They demonstrate familiarity with communicative tasks and often employ strategies like circumlocution or rephrasing. Advanced Mid speakers performing at this level exhibit a substantial flow in their speech. While their vocabulary is generally extensive, it tends to be primarily generic, unless discussing a particular area of specialization or interest. Their discourse may still reflect the oral paragraph structure of their native language rather than that of the target language.  Contributing to conversations on familiar topics with accuracy, clarity, and precision, Advanced Mid speakers convey their intended message without misrepresentation or confusion. They are easily understood by native speakers unaccustomed to dealing with non-natives. However, when tasked with functions or topics associated with the Superior level, the quality and/or quantity of their speech may generally decline.',\n 'Advanced Low': \"Speakers at the Advanced level engage in conversation in a clearly participatory manner to communicate information on autobiographical topics, as well as topics of community, national, or international interest. The topics are handled concretely through narration and description in the major time frames of past, present, and future. These speakers can also deal with a social situation with an unexpected complication. The language of Advanced-level speakers is abundant, with the oral paragraph being the measure of Advanced-level length and discourse. Advanced-level speakers have sufficient control of basic structures and generic vocabulary to be understood by native speakers of the language, including those unaccustomed to non-native speech. Speakers at the Advanced Low sublevel are capable of handling a variety of communicative tasks. They can participate in most informal and some formal conversations on topics related to school, home, and leisure activities. Additionally, they are able to discuss topics related to employment, current events, and matters of public and community interest.  Advanced Low speakers demonstrate the ability to narrate and describe events in the major time frames of past, present, and future in paragraph-length discourse, with some control of aspect. In these narrations and descriptions, they combine and link sentences into connected discourse of paragraph length, although these narratives and descriptions tend to be handled separately rather than interwoven. They can appropriately address linguistic challenges presented by complications or unexpected turns of events.  Responses produced by Advanced Low speakers are typically not longer than a single paragraph. The speaker's dominant language may be evident in the use of false cognates, literal translations, or the oral paragraph structure of that language. At times, their discourse may be minimal for the level, marked by an irregular flow, and containing noticeable self-correction. Overall, the performance of Advanced Low speakers tends to be uneven.  Advanced Low speech is typically marked by a certain grammatical roughness (e.g., inconsistent control of verb endings), but the overall performance of the Advanced-level tasks is sustained, albeit minimally. The vocabulary of Advanced Low speakers often lacks specificity. Nevertheless, they are able to use communicative strategies such as rephrasing and circumlocution.  Advanced Low speakers contribute to the conversation with sufficient accuracy, clarity, and precision to convey their intended message without misrepresentation or confusion. Their speech can be understood by native speakers unaccustomed to dealing with non-natives, even though this may require some repetition or restatement. When attempting to perform functions or handle topics associated with the Superior level, the linguistic quality and quantity of their speech will deteriorate significantly.\",\n 'Intermediate High': 'Speakers at the Intermediate level are distinguished primarily by their ability to create with the language when talking about familiar topics related to their daily life. They are able to recombine learned material to express personal meaning. Intermediate-level speakers can ask simple questions and handle straightforward survival situations. They produce sentence-level language, ranging from discrete sentences to strings of sentences, typically in present time. Intermediate-level speakers are understood by interlocutors who are accustomed to dealing with non-native learners of the language. Intermediate High speakers are able to converse with ease and confidence when dealing with the routine tasks and social situations of the Intermediate level. They are able to handle successfully uncomplicated tasks and social situations requiring an exchange of basic information related to their work, school, recreation, particular interests, and areas of competence.  Intermediate High speakers can handle a substantial number of tasks associated with the Advanced level, but they are unable to sustain performance of all of these tasks all of the time. Intermediate High speakers can narrate and describe in all major time frames using connected discourse of paragraph length, but not all the time. Typically, when Intermediate High speakers attempt to perform Advanced-level tasks, their speech exhibits one or more features of breakdown, such as the failure to carry out fully the narration or description in the appropriate major time frame, an inability to maintain paragraph-length discourse, or a reduction in breadth and appropriateness of vocabulary.  Intermediate High speakers can generally be understood by native speakers unaccustomed to dealing with non-natives, although interference from another language may be evident (e.g., use of code-switching, false cognates, literal translations), and a pattern of gaps in communication may occur.',\n 'Intermediate Mid': 'Speakers at the Intermediate level are distinguished primarily by their ability to create with the language when talking about familiar topics related to their daily life. They are able to recombine learned material to express personal meaning. Intermediate-level speakers can ask simple questions and handle straightforward survival situations. They produce sentence-level language, ranging from discrete sentences to strings of sentences, typically in present time. Intermediate-level speakers are understood by interlocutors who are accustomed to dealing with non-native learners of the language. Speakers at the Intermediate Mid sublevel are able to handle successfully a variety of uncomplicated communicative tasks in straightforward social situations. Conversation is generally limited to those predictable and concrete exchanges necessary for survival in the target culture. These include personal information related to self, family, home, daily activities, interests, and personal preferences, as well as physical and social needs, such as food, shopping, travel, and lodging. Intermediate Mid speakers tend to function reactively, for example, by responding to direct questions or requests for information. However, they are capable of asking a variety of questions when necessary to obtain simple information to satisfy basic needs, such as directions, prices, and services.  When called on to perform functions or handle topics at the Advanced level, they provide some information but have difficulty linking ideas, manipulating time and aspect, and using communicative strategies, such as circumlocution. Intermediate Mid speakers are able to express personal meaning by creating with the language, in part by combining and recombining known elements and conversational input to produce responses typically consisting of sentences and strings of sentences. Their speech may contain pauses, reformulations, and self-corrections as they search for adequate vocabulary and appropriate language forms to express themselves.  In spite of the limitations in their vocabulary and/or pronunciation and/or grammar and/or syntax, Intermediate Mid speakers are generally understood by sympathetic interlocutors accustomed to dealing with non-natives. Overall, Intermediate Mid speakers are at ease when performing Intermediate-level tasks and do so with a significant quantity and quality of Intermediate-level language.',\n 'Intermediate Low': 'Speakers at the Intermediate level are distinguished primarily by their ability to create with the language when talking about familiar topics related to their daily life. They are able to recombine learned material to express personal meaning. Intermediate-level speakers can ask simple questions and handle straightforward survival situations. They produce sentence-level language, ranging from discrete sentences to strings of sentences, typically in present time. Intermediate-level speakers are understood by interlocutors who are accustomed to dealing with non-native learners of the language. Speakers at the Intermediate Low sublevel are able to handle successfully a limited number of uncomplicated communicative tasks by creating with the language in straightforward social situations. Conversation is restricted to some of the concrete exchanges and predictable topics necessary for survival in the target-language culture. These topics relate to basic personal information; for example, self and family, some daily activities and personal preferences, and some immediate needs, such as ordering food and making simple purchases.  At the Intermediate Low sublevel, speakers are primarily reactive and struggle to answer direct questions or requests for information. They are also able to ask a few appropriate questions. Intermediate Low speakers manage to sustain the functions of the Intermediate level, although just barely. Intermediate Low speakers express personal meaning by combining and recombining what they know and what they hear from their interlocutors into short statements and discrete sentences. Their responses are often filled with hesitancy and inaccuracies as they search for appropriate linguistic forms and vocabulary while attempting to give form to the message.  Their speech is characterized by frequent pauses, ineffective reformulations, and self-corrections. Their pronunciation, vocabulary, and syntax are strongly influenced by their first language. In spite of frequent misunderstandings that may require repetition or rephrasing, Intermediate Low speakers can generally be understood by sympathetic interlocutors, particularly by those accustomed to dealing with non-natives.',\n 'Novice High': 'Novice-level speakers can communicate short messages on highly predictable, everyday topics that affect them directly. They do so primarily through the use of isolated words and phrases that have been encountered, memorized, and recalled. Novice-level speakers may be difficult to understand even by the most sympathetic interlocutors accustomed to non-native speech. Speakers at the Novice High sublevel are capable of handling various tasks related to the Intermediate level but cannot consistently maintain performance at that level. They can successfully manage several uncomplicated communicative tasks in straightforward social situations. Conversations are limited to predictable topics essential for survival in the target language culture, such as basic personal information, objects, a limited number of activities, preferences, and immediate needs. Novice High speakers respond to simple, direct questions or requests for information and can ask a few formulaic questions.  Expressing personal meaning, Novice High speakers heavily rely on learned phrases or combinations of these and what they hear from their interlocutors. Their language primarily consists of short and sometimes incomplete sentences in the present, which may be hesitant or inaccurate. However, as their language often comprises expansions of learned material and stock phrases, they may occasionally sound surprisingly fluent and accurate. Pronunciation, vocabulary, and syntax may be strongly influenced by the first language. Although frequent misunderstandings may arise, with repetition or rephrasing, Novice High speakers can generally be understood by sympathetic interlocutors accustomed to non-natives.  When called upon to handle a variety of topics and perform functions related to the Intermediate level, a Novice High speaker can sometimes respond in intelligible sentences but will not be able to sustain sentence-level discourse.',\n 'Novice Mid': 'Novice-level speakers can communicate short messages on highly predictable, everyday topics that affect them directly. They do so primarily through the use of isolated words and phrases that have been encountered, memorized, and recalled. Novice-level speakers may be difficult to understand even by the most sympathetic interlocutors accustomed to non-native speech. Speakers at the Novice Mid sublevel communicate minimally by using a number of isolated words and memorized phrases, limited by the particular context in which the language has been learned. When responding to direct questions, they may say only two or three words at a time or give an occasional stock answer. They pause frequently as they search for simple vocabulary or attempt to recycle their own and their interlocutor’s words.  Novice Mid speakers may be understood with difficulty even by sympathetic interlocutors accustomed to dealing with non-natives. When called on to handle topics and perform functions associated with the Intermediate level, they frequently resort to repetition, words from their native language, or silence.',\n 'Novice Low': 'Novice-level speakers can communicate short messages on highly predictable, everyday topics that affect them directly. They do so primarily through the use of isolated words and phrases that have been encountered, memorized, and recalled. Novice-level speakers may be difficult to understand even by the most sympathetic interlocutors accustomed to non-native speech. Speakers at the Novice Low sublevel have no real functional ability and, due to their pronunciation, may be unintelligible. Given adequate time and familiar cues, they may be able to exchange greetings, give their identity, and name a number of familiar objects from their immediate environment. However, they are unable to perform functions or handle topics pertaining to the Intermediate level and cannot, therefore, participate in a true conversational exchange.'}"
     },
     "execution_count": 26,
     "metadata": {},
     "output_type": "execute_result"
    }
   ],
   "source": [
    "def parse_markdown(file_path):\n",
    "    result_dict = {}\n",
    "    current_title = None\n",
    "    current_content = \"\"\n",
    "\n",
    "    with open(file_path, 'r') as file:\n",
    "        for line in file:\n",
    "            line = line.strip()\n",
    "\n",
    "            if line.startswith(\"# \"):\n",
    "                # Found a title\n",
    "                if current_title:\n",
    "                    result_dict[current_title] = current_content.strip()\n",
    "                    current_content = \"\"\n",
    "                current_title = line[2:]\n",
    "            elif line.startswith(\"## \"):\n",
    "                # Found a subtitle\n",
    "                subtitle = line[3:]\n",
    "                if current_title:\n",
    "                    result_dict[current_title] = current_content.strip()\n",
    "                    current_content = \"\"\n",
    "                current_title = f\"{subtitle}\"\n",
    "            else:\n",
    "                # Accumulate content\n",
    "                current_content += line + \" \"\n",
    "\n",
    "    # Add the last entry\n",
    "    if current_title:\n",
    "        result_dict[current_title] = current_content.strip()\n",
    "        \n",
    "    # Add main level content to each sublevel\n",
    "    for key in result_dict.keys():\n",
    "        if len(key.split(\" \")) > 1 and key.split(\" \")[0] in result_dict.keys():\n",
    "            result_dict[key] = result_dict[key.split(\" \")[0]] + \" \" + result_dict[key]\n",
    "            \n",
    "    # Remove levels that have sublevels\n",
    "    keys_to_delete = []\n",
    "    for key in result_dict.keys():\n",
    "        if len(key.split(\" \")) > 1 and key.split(\" \")[0] in result_dict.keys():\n",
    "            keys_to_delete.append(key.split(\" \")[0])\n",
    "    for key in keys_to_delete:\n",
    "        if key in result_dict.keys():\n",
    "            del result_dict[key]\n",
    "\n",
    "    return result_dict\n",
    "\n",
    "\n",
    "# Example usage\n",
    "file_path = '../proficiency-guidelines.md'\n",
    "parsed_dict = parse_markdown(file_path)\n",
    "\n",
    "parsed_dict"
   ]
  },
  {
   "cell_type": "code",
   "outputs": [],
   "source": [
    "import os\n",
    "\n",
    "if not os.path.exists(\"../data/guideline-descriptions\"):\n",
    "    os.makedirs(\"../data/guideline-descriptions\")\n",
    "\n",
    "for key in parsed_dict.keys():\n",
    "    with open(f\"../data/guideline-descriptions/{key}.txt\", 'w') as file:\n",
    "        file.write(parsed_dict[key])"
   ],
   "metadata": {
    "collapsed": false,
    "ExecuteTime": {
     "end_time": "2024-02-17T11:32:02.153419Z",
     "start_time": "2024-02-17T11:32:02.149127Z"
    }
   },
   "id": "5e381c3bb44efbf2",
   "execution_count": 31
  }
 ],
 "metadata": {
  "kernelspec": {
   "display_name": "Python 3",
   "language": "python",
   "name": "python3"
  },
  "language_info": {
   "codemirror_mode": {
    "name": "ipython",
    "version": 2
   },
   "file_extension": ".py",
   "mimetype": "text/x-python",
   "name": "python",
   "nbconvert_exporter": "python",
   "pygments_lexer": "ipython2",
   "version": "2.7.6"
  }
 },
 "nbformat": 4,
 "nbformat_minor": 5
}
